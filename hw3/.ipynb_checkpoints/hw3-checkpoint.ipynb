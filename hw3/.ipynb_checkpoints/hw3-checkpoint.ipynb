{
 "cells": [
  {
   "cell_type": "code",
   "execution_count": 1,
   "id": "3f7fbd98",
   "metadata": {},
   "outputs": [],
   "source": [
    "import requests \n",
    "from bs4 import BeautifulSoup\n",
    "import time\n",
    "from time import sleep\n",
    "import pandas as pd "
   ]
  },
  {
   "cell_type": "code",
   "execution_count": 2,
   "id": "1267f620",
   "metadata": {},
   "outputs": [
    {
     "name": "stdout",
     "output_type": "stream",
     "text": [
      "【2023台北美食推薦】精選27間台北餐廳、下午茶、平價小吃、異國料理，快收進口袋名單吧\n"
     ]
    }
   ],
   "source": [
    "# 對網頁發送請求\n",
    "url = \"https://www.welcometw.com/%e5%8f%b0%e5%8c%97%e7%be%8e%e9%a3%9f%e6%8e%a8%e8%96%a6/\"\n",
    "res = requests.get(url)\n",
    "soup = BeautifulSoup(res.content, \"html.parser\")\n",
    "\n",
    "# 網頁標題\n",
    "title = soup.title.string\n",
    "print(title)"
   ]
  },
  {
   "cell_type": "code",
   "execution_count": 3,
   "id": "925851b0",
   "metadata": {},
   "outputs": [
    {
     "name": "stdout",
     "output_type": "stream",
     "text": [
      "<h2><span class=\"ez-toc-section\" id=\"%E5%8F%B0%E5%8C%97%E7%BE%8E%E9%A3%9F%EF%BD%9C%E5%8F%B0%E5%8C%97%E4%B8%AD%E5%BC%8F%E9%A4%90%E5%BB%B3\"></span><strong>台北美食｜台北中式餐廳</strong><span class=\"ez-toc-section-end\"></span></h2>\n",
      "<h2><span class=\"ez-toc-section\" id=\"%E5%8F%B0%E5%8C%97%E7%BE%8E%E9%A3%9F%EF%BD%9C%E5%8F%B0%E5%8C%97%E6%97%A5%E5%BC%8F%E6%96%99%E7%90%86\"></span><strong>台北美食｜台北日式料理</strong><span class=\"ez-toc-section-end\"></span></h2>\n",
      "<h2><span class=\"ez-toc-section\" id=\"%E5%8F%B0%E5%8C%97%E7%BE%8E%E9%A3%9F%EF%BD%9C%E5%8F%B0%E5%8C%97%E7%BE%8E%E5%BC%8F%E9%A4%90%E5%BB%B3\"></span><strong>台北美食｜台北美式餐廳</strong><span class=\"ez-toc-section-end\"></span></h2>\n",
      "<h2><span class=\"ez-toc-section\" id=\"%E5%8F%B0%E5%8C%97%E7%BE%8E%E9%A3%9F%EF%BD%9C%E5%8F%B0%E5%8C%97%E7%95%B0%E5%9C%8B%E9%A4%90%E5%BB%B3\"></span><strong>台北美食｜台北異國餐廳</strong><span class=\"ez-toc-section-end\"></span></h2>\n",
      "<h2><span class=\"ez-toc-section\" id=\"%E5%8F%B0%E5%8C%97%E7%BE%8E%E9%A3%9F%EF%BD%9C%E4%BA%94%E6%98%9F%E9%AB%98%E7%B4%9A%E9%A4%90%E5%BB%B3\"></span><strong>台北美食｜五星高級餐廳</strong><span class=\"ez-toc-section-end\"></span></h2>\n",
      "<h2><span class=\"ez-toc-section\" id=\"%E5%8F%B0%E5%8C%97%E7%BE%8E%E9%A3%9F%EF%BD%9C%E5%8F%B0%E5%8C%97%E7%81%AB%E9%8D%8B%E6%8E%A8%E8%96%A6\"></span><strong>台北美食｜台北火鍋推薦</strong><span class=\"ez-toc-section-end\"></span></h2>\n",
      "<h2><span class=\"ez-toc-section\" id=\"%E5%8F%B0%E5%8C%97%E7%BE%8E%E9%A3%9F%EF%BD%9C%E5%8F%B0%E5%8C%97%E8%81%9A%E6%9C%83%E9%A4%90%E5%BB%B3\"></span><strong>台北美食｜台北聚會餐廳</strong><span class=\"ez-toc-section-end\"></span></h2>\n",
      "<h2><span class=\"ez-toc-section\" id=\"%E5%8F%B0%E5%8C%97%E7%BE%8E%E9%A3%9F%EF%BD%9C%E5%8F%B0%E5%8C%97%E5%92%96%E5%95%A1%E5%BB%B3%E4%B8%8B%E5%8D%88%E8%8C%B6\"></span><strong>台北美食</strong><strong>｜台北咖啡廳下午茶</strong><span class=\"ez-toc-section-end\"></span></h2>\n",
      "<h2><span class=\"ez-toc-section\" id=\"%E5%8F%B0%E5%8C%97%E7%BE%8E%E9%A3%9F%EF%BD%9C%E5%8F%B0%E5%8C%97%E8%94%AC%E9%A3%9F%E9%A4%90%E5%BB%B3\"></span><strong>台北美食｜台北蔬食餐廳</strong><span class=\"ez-toc-section-end\"></span></h2>\n",
      "<h2><span class=\"ez-toc-section\" id=\"%E5%8F%B0%E5%8C%97%E7%BE%8E%E9%A3%9F%EF%BD%9C%E5%8F%B0%E5%8C%97%E5%A4%9C%E5%B8%82%E7%BE%8E%E9%A3%9F\"></span><strong>台北美食｜台北夜市美食</strong><span class=\"ez-toc-section-end\"></span></h2>\n",
      "<h2><span class=\"ez-toc-section\" id=\"%E5%8F%B0%E5%8C%97%E7%BE%8E%E9%A3%9F%EF%BD%9C%E5%8F%B0%E5%8C%97%E8%A6%AA%E5%AD%90%E9%A4%90%E5%BB%B3\"></span><strong>台北美食｜台北親子餐廳</strong><span class=\"ez-toc-section-end\"></span></h2>\n",
      "<h2><span class=\"ez-toc-section\" id=\"%E5%8F%B0%E5%8C%97%E7%BE%8E%E9%A3%9F%EF%BD%9C%E5%8F%B0%E5%8C%97%E6%97%A9%E5%8D%88%E9%A4%90\"></span><strong>台北美食｜台北早午餐</strong><span class=\"ez-toc-section-end\"></span></h2>\n",
      "<h2><span class=\"ez-toc-section\" id=\"%EF%BC%8A%E7%9C%8B%E6%9B%B4%E5%A4%9A%E3%80%8C%E5%8C%97%E5%8C%97%E5%9F%BA%E6%97%85%E9%81%8A%E3%80%8D%E8%B3%87%E8%A8%8A%EF%BC%8C%E8%AB%8B%E9%BB%9E%E6%93%8A%E5%9B%9E%E5%88%B0%E4%B8%BB%E9%A0%81%E3%80%82\"></span><span style=\"font-size: 16px;\">＊看更多「</span><a data-wpel-link=\"internal\" href=\"https://www.welcometw.com/category/northern-travel/\">北北基旅遊</a><span style=\"font-size: 16px;\">」資訊，請點擊回到主頁。</span><span class=\"ez-toc-section-end\"></span></h2>\n"
     ]
    }
   ],
   "source": [
    "# 台北美食類型\n",
    "h2_tags = soup.find_all(\"h2\")\n",
    "for h2_tag in h2_tags:\n",
    "    print(h2_tag)"
   ]
  },
  {
   "cell_type": "code",
   "execution_count": 4,
   "id": "c3710c5a",
   "metadata": {},
   "outputs": [
    {
     "data": {
      "text/plain": [
       "['台北美食｜台北中式餐廳',\n",
       " '台北美食｜台北日式料理',\n",
       " '台北美食｜台北美式餐廳',\n",
       " '台北美食｜台北異國餐廳',\n",
       " '台北美食｜五星高級餐廳',\n",
       " '台北美食｜台北火鍋推薦',\n",
       " '台北美食｜台北聚會餐廳',\n",
       " '台北美食｜台北咖啡廳下午茶',\n",
       " '台北美食｜台北蔬食餐廳',\n",
       " '台北美食｜台北夜市美食',\n",
       " '台北美食｜台北親子餐廳',\n",
       " '台北美食｜台北早午餐',\n",
       " '＊看更多「北北基旅遊」資訊，請點擊回到主頁。']"
      ]
     },
     "execution_count": 4,
     "metadata": {},
     "output_type": "execute_result"
    }
   ],
   "source": [
    "# 取出文字\n",
    "import re\n",
    "\n",
    "h2_texts = []\n",
    "h2_tags = soup.find_all(\"h2\")\n",
    "for h2_tag in h2_tags:\n",
    "    text = h2_tag.text.strip()\n",
    "    text = re.sub(r\"\\s+\", \" \", text)\n",
    "    h2_texts.append(text)\n",
    "    \n",
    "h2_texts"
   ]
  },
  {
   "cell_type": "code",
   "execution_count": 5,
   "id": "99d748f6",
   "metadata": {},
   "outputs": [
    {
     "name": "stdout",
     "output_type": "stream",
     "text": [
      "<pre><a data-wpel-link=\"external\" href=\"https://www.facebook.com/sinchaoriceshoppe/\" rel=\"nofollow noopener\" target=\"_blank\"><strong>心潮飯店</strong></a>\r\n",
      "地址：台北市信義區忠孝東路五段68號2樓\r\n",
      "時間：週日～週三11:00–21:30；週四～週六11:00–22:00\r\n",
      "電話：02–2723–9976\r\n",
      "捷運：市政府站美食</pre>\n",
      "<pre><a data-wpel-link=\"external\" href=\"https://www.facebook.com/ShuangYueFood/\" rel=\"nofollow noopener\" target=\"_blank\"><strong>雙月食品社</strong></a>\r\n",
      "地址：台北市中正區青島東路6之2號\r\n",
      "時間：11:00–14:00；17:00–20:00（週日公休）\r\n",
      "電話：02–3393–8953\r\n",
      "捷運：善導寺站美食</pre>\n",
      "<pre><a data-wpel-link=\"external\" href=\"https://www.facebook.com/manjedaddon/\" rel=\"nofollow noopener\" target=\"_blank\"><strong>瞞著爹－台北八德壽司丼</strong></a>\r\n",
      "地址：台北市松山區八德路二段366巷29號\r\n",
      "時間：11:30-14:30；17:00-21:30\r\n",
      "電話：02–7728–6588 #203\r\n",
      "捷運：南京復興站美食</pre>\n",
      "<pre><strong><a data-wpel-link=\"external\" href=\"https://www.facebook.com/menya.chikumo/\" rel=\"nofollow noopener\" target=\"_blank\">麵屋千雲</a></strong>\r\n",
      "地址：台北市中山區林森北路105-1號\r\n",
      "時間：12:00–15:30；17:00-15:00\r\n",
      "電話：02–2523–3198\r\n",
      "捷運：中山站美食</pre>\n",
      "<pre><a data-wpel-link=\"external\" href=\"https://www.facebook.com/BurgerRay.tw/\" rel=\"nofollow noopener\" target=\"_blank\"><strong>Burger Ray</strong></a> \r\n",
      "地址：台北市大安區忠孝東路四段250-4號\r\n",
      "時間：詳見官網\r\n",
      "電話：02–8771–5811\r\n",
      "捷運：國父紀念館站美食</pre>\n",
      "<pre><a data-wpel-link=\"external\" href=\"https://www.facebook.com/Butcher-by-Lanpengyou-112877023708211/\" rel=\"nofollow noopener\" target=\"_blank\"><strong>Butcher by LanPengYou</strong></a> \r\n",
      "地址：台北市信義區基隆路二段87號\r\n",
      "時間：週二～週五11:00–14:30；17:30–22:00／週末11:00–22:00（週一公休）\r\n",
      "電話：02–2732–0070\r\n",
      "捷運：101站美食</pre>\n",
      "<pre><a data-wpel-link=\"external\" href=\"https://www.facebook.com/Pico-Pico-790504517643241/\" rel=\"nofollow noopener\" target=\"_blank\"><strong>Pico Pico</strong></a>\r\n",
      "地址：台北市大安區安和路一段102巷28號\r\n",
      "時間：16:00–23:00（周一公休）\r\n",
      "電話：02–2755–1161\r\n",
      "捷運：信義安和站美食</pre>\n",
      "<pre><a data-wpel-link=\"external\" href=\"https://www.facebook.com/ConfitR%C3%A9mi-%E9%BB%91%E7%B1%B3Caf%C3%A9Bistro-147315495313654/\" rel=\"nofollow noopener\" target=\"_blank\"><strong>ConfitRémi 黑米</strong></a>\r\n",
      "地址：台北市文山區羅斯福路五段269巷16號\r\n",
      "時間：12:00–14:00；17:30–22:00\r\n",
      "電話：02–8663–8008\r\n",
      "捷運：萬隆站美食</pre>\n",
      "<pre><a data-wpel-link=\"external\" href=\"https://www.orchid-restaurant.com.tw/team?lang=zh-tw\" rel=\"noopener\" target=\"_blank\"><strong>Orchid by Nobu Lee蘭</strong></a>\r\n",
      "地址：台北市大安區安和路二段83號\r\n",
      "時間：11:30-14:30；18:00-22:30（週一公休）\r\n",
      "電話：02-2378-3333\r\n",
      "捷運：信義安和站美食</pre>\n",
      "<pre><a data-wpel-link=\"external\" href=\"https://www.facebook.com/Hwatzexun/\" rel=\"nofollow noopener\" target=\"_blank\"><strong>花彘醺 Bistro</strong></a>\r\n",
      "地址：台北市大安區仁愛路四段345巷15弄8號\r\n",
      "時間：17:30–01:00\r\n",
      "電話：02–2777–1479\r\n",
      "捷運：國父紀念館站美食</pre>\n",
      "<pre><a data-wpel-link=\"external\" href=\"https://www.facebook.com/sushiokashin\" rel=\"nofollow noopener\" target=\"_blank\"><strong>鮨 岡心</strong></a>\r\n",
      "地址：台北市大安區大安路一段31巷21號\r\n",
      "時間：12:00–14:30；18:00–22:00（週三公休）\r\n",
      "電話：02–2741–9795\r\n",
      "捷運：忠孝復興站美食</pre>\n",
      "<pre><strong><a data-wpel-link=\"external\" href=\"https://www.facebook.com/xiangse/\" rel=\"nofollow noopener\" target=\"_blank\">香色 Xiang Se</a></strong>\r\n",
      "地址：台北市中正區湖口街1-2號\r\n",
      "時間：請見官網（週一公休）\r\n",
      "電話：02–2358–1819\r\n",
      "捷運：中正紀念館站美食</pre>\n",
      "<pre><strong>詹記麻辣火鍋\r\n",
      "</strong>地址：台北市大安區和平東路三段60號\r\n",
      "營業時間：12:00-01:00\r\n",
      "捷運：六張犁站美食</pre>\n",
      "<pre><strong>橘色涮涮屋</strong>\r\n",
      "地址：台北市信義區松壽路9號7樓\r\n",
      "營業時間：11:30-23:30\r\n",
      "電話：02-8789-6068\r\n",
      "Google評價：4.3\r\n",
      "捷運：象山站美食</pre>\n",
      "<pre><strong>旺角石頭火鍋\r\n",
      "</strong>地址：台北市萬華區中華路一段74號\r\n",
      "營業時間：11:30-00:00\r\n",
      "捷運：西門町美食</pre>\n",
      "<pre><a data-wpel-link=\"external\" href=\"https://www.facebook.com/meowveloustaipeifanclub/\" rel=\"nofollow noopener\" target=\"_blank\"><strong>貓下去敦北俱樂部</strong></a>\r\n",
      "地址：台北市松山區敦化北路218號\r\n",
      "時間：11:00–23:00\r\n",
      "電話：02–2717–7596\r\n",
      "捷運：中山國中站美食</pre>\n",
      "<pre><a data-wpel-link=\"external\" href=\"https://www.facebook.com/TheAntipodean/\" rel=\"nofollow noopener\" target=\"_blank\"><strong>The Antipodean Specialty Coffee</strong></a> \r\n",
      "地址：台北市內湖區港墘路26巷4號\r\n",
      "時間：周一～周五08:00–18:00／周六～周日07:00–18:00\r\n",
      "電話：02–8751–0027\r\n",
      "捷運：港墘站美食</pre>\n",
      "<pre><a data-wpel-link=\"external\" href=\"https://www.facebook.com/basement.tpc/\" rel=\"nofollow noopener\" target=\"_blank\"><strong>Basement Cafe 樓下咖啡</strong></a>\r\n",
      "地址：台北市大安區光復南路420巷10號B1\r\n",
      "時間：18:00–00:00（週一週二公休）\r\n",
      "電話：02–2325–7072\r\n",
      "捷運：信義站美食</pre>\n",
      "<pre><a data-wpel-link=\"external\" href=\"https://www.facebook.com/gingincc/\" rel=\"nofollow noopener\" target=\"_blank\"><strong>GinGin Coffee Company</strong></a> \r\n",
      "地址：台北市中正區臨沂街27巷9號1\r\n",
      "時間：09:00–20:30\r\n",
      "電話：02–2394–0089\r\n",
      "捷運：忠孝新生站美食</pre>\n",
      "<pre><a data-wpel-link=\"external\" href=\"https://www.facebook.com/LittleTreeFood/\" rel=\"nofollow noopener\" target=\"_blank\"><strong>小小樹食</strong></a>\r\n",
      "地址：台北市大安區大安路一段116巷17號\r\n",
      "時間：12:00–21:00\r\n",
      "電話：02–2778–2277\r\n",
      "捷運：忠孝復興站美食</pre>\n",
      "<pre><b>小王煮瓜</b>\r\n",
      "<span style=\"font-weight: 400;\">地址：台北市萬華區華西街17之4號（第153攤位）</span>\r\n",
      "<span style=\"font-weight: 400;\">營業時間：09:30–20:00，週二休息\r\n",
      "捷運：龍山寺美食\r\n",
      "</span></pre>\n",
      "<pre><strong>紅燒牛肉麵、牛雜湯</strong>\r\n",
      "地址：台北市松山區饒河街63號前攤位\r\n",
      "營業時間：11:00-01:00\r\n",
      "捷運：饒河街美食、松山站美食</pre>\n",
      "<pre><strong><a data-wpel-link=\"external\" href=\"https://www.facebook.com/pages/海友十全藥燉排骨/135660699833654/\" rel=\"noopener nofollow\" target=\"_blank\">海友十全排骨</a></strong>\r\n",
      "地址：台北市士林區大東路49號\r\n",
      "營業時間：14:30–01:00\r\n",
      "捷運：劍潭站美食、士林夜市美食</pre>\n",
      "<pre><strong>甲蟲秘境親子餐廳</strong>\r\n",
      "地址：台北市士林區克強路28號1樓\r\n",
      "營業時間：11:00-21:00（週二公休）\r\n",
      "捷運：明德站美食</pre>\n",
      "<pre><strong>媽咪講親子餐廳</strong>\r\n",
      "地址：台北市內湖區民善街127號2F\r\n",
      "營業時間：週一至週五11:00~20:00、週六日08:30-20:00\r\n",
      "捷運：無，內湖美食</pre>\n",
      "<pre><a data-wpel-link=\"external\" href=\"https://www.facebook.com/LoCoFooD/\" rel=\"nofollow noopener\" target=\"_blank\"><strong>LOCO FOOD 樂口福</strong></a>\r\n",
      "地址：台北市中山區南京東路三段89巷5-4號\r\n",
      "時間：06:00–14:00\r\n",
      "電話：02–2506–8917\r\n",
      "捷運：松江南京站美食</pre>\n"
     ]
    }
   ],
   "source": [
    "# 台北美食各類型餐廳的相關資訊\n",
    "pre_tags = soup.find_all(\"pre\")\n",
    "for pre_tag in pre_tags:\n",
    "    print(pre_tag)"
   ]
  },
  {
   "cell_type": "code",
   "execution_count": 6,
   "id": "475d9905",
   "metadata": {},
   "outputs": [
    {
     "data": {
      "text/plain": [
       "['心潮飯店 地址：台北市信義區忠孝東路五段68號2樓 時間：週日～週三11:00–21:30；週四～週六11:00–22:00 電話：02–2723–9976 捷運：市政府站美食',\n",
       " '雙月食品社 地址：台北市中正區青島東路6之2號 時間：11:00–14:00；17:00–20:00（週日公休） 電話：02–3393–8953 捷運：善導寺站美食',\n",
       " '瞞著爹－台北八德壽司丼 地址：台北市松山區八德路二段366巷29號 時間：11:30-14:30；17:00-21:30 電話：02–7728–6588 #203 捷運：南京復興站美食',\n",
       " '麵屋千雲 地址：台北市中山區林森北路105-1號 時間：12:00–15:30；17:00-15:00 電話：02–2523–3198 捷運：中山站美食',\n",
       " 'Burger Ray 地址：台北市大安區忠孝東路四段250-4號 時間：詳見官網 電話：02–8771–5811 捷運：國父紀念館站美食',\n",
       " 'Butcher by LanPengYou 地址：台北市信義區基隆路二段87號 時間：週二～週五11:00–14:30；17:30–22:00／週末11:00–22:00（週一公休） 電話：02–2732–0070 捷運：101站美食',\n",
       " 'Pico Pico 地址：台北市大安區安和路一段102巷28號 時間：16:00–23:00（周一公休） 電話：02–2755–1161 捷運：信義安和站美食',\n",
       " 'ConfitRémi 黑米 地址：台北市文山區羅斯福路五段269巷16號 時間：12:00–14:00；17:30–22:00 電話：02–8663–8008 捷運：萬隆站美食',\n",
       " 'Orchid by Nobu Lee蘭 地址：台北市大安區安和路二段83號 時間：11:30-14:30；18:00-22:30（週一公休） 電話：02-2378-3333 捷運：信義安和站美食',\n",
       " '花彘醺 Bistro 地址：台北市大安區仁愛路四段345巷15弄8號 時間：17:30–01:00 電話：02–2777–1479 捷運：國父紀念館站美食',\n",
       " '鮨 岡心 地址：台北市大安區大安路一段31巷21號 時間：12:00–14:30；18:00–22:00（週三公休） 電話：02–2741–9795 捷運：忠孝復興站美食',\n",
       " '香色 Xiang Se 地址：台北市中正區湖口街1-2號 時間：請見官網（週一公休） 電話：02–2358–1819 捷運：中正紀念館站美食',\n",
       " '詹記麻辣火鍋 地址：台北市大安區和平東路三段60號 營業時間：12:00-01:00 捷運：六張犁站美食',\n",
       " '橘色涮涮屋 地址：台北市信義區松壽路9號7樓 營業時間：11:30-23:30 電話：02-8789-6068 Google評價：4.3 捷運：象山站美食',\n",
       " '旺角石頭火鍋 地址：台北市萬華區中華路一段74號 營業時間：11:30-00:00 捷運：西門町美食',\n",
       " '貓下去敦北俱樂部 地址：台北市松山區敦化北路218號 時間：11:00–23:00 電話：02–2717–7596 捷運：中山國中站美食',\n",
       " 'The Antipodean Specialty Coffee 地址：台北市內湖區港墘路26巷4號 時間：周一～周五08:00–18:00／周六～周日07:00–18:00 電話：02–8751–0027 捷運：港墘站美食',\n",
       " 'Basement Cafe 樓下咖啡 地址：台北市大安區光復南路420巷10號B1 時間：18:00–00:00（週一週二公休） 電話：02–2325–7072 捷運：信義站美食',\n",
       " 'GinGin Coffee Company 地址：台北市中正區臨沂街27巷9號1 時間：09:00–20:30 電話：02–2394–0089 捷運：忠孝新生站美食',\n",
       " '小小樹食 地址：台北市大安區大安路一段116巷17號 時間：12:00–21:00 電話：02–2778–2277 捷運：忠孝復興站美食',\n",
       " '小王煮瓜 地址：台北市萬華區華西街17之4號（第153攤位） 營業時間：09:30–20:00，週二休息 捷運：龍山寺美食',\n",
       " '紅燒牛肉麵、牛雜湯 地址：台北市松山區饒河街63號前攤位 營業時間：11:00-01:00 捷運：饒河街美食、松山站美食',\n",
       " '海友十全排骨 地址：台北市士林區大東路49號 營業時間：14:30–01:00 捷運：劍潭站美食、士林夜市美食',\n",
       " '甲蟲秘境親子餐廳 地址：台北市士林區克強路28號1樓 營業時間：11:00-21:00（週二公休） 捷運：明德站美食',\n",
       " '媽咪講親子餐廳 地址：台北市內湖區民善街127號2F 營業時間：週一至週五11:00~20:00、週六日08:30-20:00 捷運：無，內湖美食',\n",
       " 'LOCO FOOD 樂口福 地址：台北市中山區南京東路三段89巷5-4號 時間：06:00–14:00 電話：02–2506–8917 捷運：松江南京站美食']"
      ]
     },
     "execution_count": 6,
     "metadata": {},
     "output_type": "execute_result"
    }
   ],
   "source": [
    "# 取出文字\n",
    "pre_texts = []\n",
    "pre_tags = soup.find_all(\"pre\")\n",
    "for pre_tag in pre_tags:\n",
    "    text = pre_tag.text.strip()\n",
    "    text = re.sub(r\"\\s+\", \" \", text)\n",
    "    pre_texts.append(text)\n",
    "    \n",
    "pre_texts"
   ]
  },
  {
   "cell_type": "code",
   "execution_count": 11,
   "id": "c4657b0a",
   "metadata": {},
   "outputs": [
    {
     "data": {
      "text/plain": [
       "['心潮飯店',\n",
       " '雙月食品社',\n",
       " '瞞著爹－台北八德壽司丼',\n",
       " '麵屋千雲',\n",
       " 'Burger Ray',\n",
       " 'Butcher by LanPengYou',\n",
       " 'Pico Pico',\n",
       " 'ConfitRémi 黑米',\n",
       " 'Orchid by Nobu Lee蘭',\n",
       " '花彘醺 Bistro',\n",
       " '鮨 岡心',\n",
       " '香色 Xiang Se',\n",
       " '詹記麻辣火鍋',\n",
       " '橘色涮涮屋',\n",
       " '旺角石頭火鍋',\n",
       " '貓下去敦北俱樂部',\n",
       " 'The Antipodean Specialty Coffee',\n",
       " 'Basement Cafe 樓下咖啡',\n",
       " 'GinGin Coffee Company',\n",
       " '小小樹食',\n",
       " '紅燒牛肉麵、牛雜湯',\n",
       " '海友十全排骨',\n",
       " '甲蟲秘境親子餐廳',\n",
       " '媽咪講親子餐廳',\n",
       " 'LOCO FOOD 樂口福']"
      ]
     },
     "execution_count": 11,
     "metadata": {},
     "output_type": "execute_result"
    }
   ],
   "source": [
    "# 取出台北美食各類型餐廳的所有店名\n",
    "pre_tags = soup.find_all(\"pre\")\n",
    "strong_list = []\n",
    "for pre_tag in pre_tags:\n",
    "    text = pre_tag.text\n",
    "    strong_tags = pre_tag.find_all(\"strong\")\n",
    "    for strong_tag in strong_tags:\n",
    "        strong_text = strong_tag.text.strip()\n",
    "        strong_list.append(strong_text)\n",
    "        \n",
    "strong_list"
   ]
  },
  {
   "cell_type": "code",
   "execution_count": 12,
   "id": "69d7842e",
   "metadata": {},
   "outputs": [],
   "source": [
    "import json\n",
    "\n",
    "# 存成 json\n",
    "data = pd.DataFrame(strong_list, columns=['店名'])\n",
    "data.to_json('strong_list.json', orient='records', force_ascii=False)\n",
    "\n",
    "# 存成 csv\n",
    "data.to_csv('strong_list.csv', index=False, header=True)"
   ]
  },
  {
   "cell_type": "code",
   "execution_count": null,
   "id": "af4e968f",
   "metadata": {},
   "outputs": [],
   "source": []
  }
 ],
 "metadata": {
  "kernelspec": {
   "display_name": "Python 3 (ipykernel)",
   "language": "python",
   "name": "python3"
  },
  "language_info": {
   "codemirror_mode": {
    "name": "ipython",
    "version": 3
   },
   "file_extension": ".py",
   "mimetype": "text/x-python",
   "name": "python",
   "nbconvert_exporter": "python",
   "pygments_lexer": "ipython3",
   "version": "3.9.13"
  }
 },
 "nbformat": 4,
 "nbformat_minor": 5
}
