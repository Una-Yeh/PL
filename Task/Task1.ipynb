{
 "cells": [
  {
   "cell_type": "code",
   "execution_count": 4,
   "id": "c79b2537",
   "metadata": {},
   "outputs": [],
   "source": [
    "import pandas as pd\n",
    "\n",
    "# 參加人員名單\n",
    "join = pd.read_csv(\"CIOT.csv\")\n",
    "# 實際出席人員名單\n",
    "classes = pd.read_csv(\"class.csv\")"
   ]
  },
  {
   "cell_type": "code",
   "execution_count": 3,
   "id": "e7adad29",
   "metadata": {},
   "outputs": [],
   "source": [
    "# 單獨取出需要的資料欄位\n",
    "name1 = list(join['姓名'])\n",
    "name2 = list(classes['姓名'])"
   ]
  },
  {
   "cell_type": "code",
   "execution_count": 4,
   "id": "69884c12",
   "metadata": {},
   "outputs": [
    {
     "name": "stdout",
     "output_type": "stream",
     "text": [
      "應出席學生數: 21  vs. 實際出席學生數: 15\n"
     ]
    }
   ],
   "source": [
    "# 提取資料數量\n",
    "print(\"應出席學生數:\", len(join),\" vs. 實際出席學生數:\", len(classes))"
   ]
  },
  {
   "cell_type": "code",
   "execution_count": 5,
   "id": "7315e99d",
   "metadata": {},
   "outputs": [
    {
     "name": "stdout",
     "output_type": "stream",
     "text": [
      "{'施國銓', '李國彰', '張再傳', '廖子綺', '黃鼎浩', '吳君孝', '林郁宸', '李宗憲', '鄭文', '陳勇仁', '李育賢', '吳怡君', '謝姿莉', '鄭朝元', '楊晴雯', '許菀芹', '周冠汶', '林雨璇', '宋婉甄', '謝佩玲', '黃俊能'}\n"
     ]
    }
   ],
   "source": [
    "# list變為set(set才能使用集合運算)\n",
    "# 參加人員名單\n",
    "Name1 = set(name1)\n",
    "print(Name1)"
   ]
  },
  {
   "cell_type": "code",
   "execution_count": 6,
   "id": "90bdbf1e",
   "metadata": {},
   "outputs": [
    {
     "name": "stdout",
     "output_type": "stream",
     "text": [
      "{'施國銓', '吳君孝', '李宗憲', '宋婉甄', '謝姿莉', '楊晴雯', '張再傳', '許菀芹', '陳勇仁', '李育賢', '周冠汶', '廖子綺', '吳怡君', '黃鼎浩', '謝佩玲'}\n"
     ]
    }
   ],
   "source": [
    "# list變為set\n",
    "# 實際出席人員名單\n",
    "Name2 = set(name2)\n",
    "print(Name2)"
   ]
  },
  {
   "cell_type": "code",
   "execution_count": 7,
   "id": "c2d079e8",
   "metadata": {},
   "outputs": [
    {
     "name": "stdout",
     "output_type": "stream",
     "text": [
      "{'施國銓', '吳君孝', '謝姿莉', '李宗憲', '宋婉甄', '楊晴雯', '張再傳', '許菀芹', '陳勇仁', '李育賢', '周冠汶', '廖子綺', '吳怡君', '黃鼎浩', '謝佩玲'}\n"
     ]
    }
   ],
   "source": [
    "# 交集(a & b都有的元素)\n",
    "print(Name1 & Name2)"
   ]
  },
  {
   "cell_type": "code",
   "execution_count": 8,
   "id": "00f56715",
   "metadata": {},
   "outputs": [
    {
     "name": "stdout",
     "output_type": "stream",
     "text": [
      "{'施國銓', '李國彰', '謝姿莉', '鄭朝元', '楊晴雯', '張再傳', '許菀芹', '廖子綺', '周冠汶', '林雨璇', '黃鼎浩', '吳君孝', '林郁宸', '李宗憲', '宋婉甄', '鄭文', '陳勇仁', '李育賢', '吳怡君', '謝佩玲', '黃俊能'}\n"
     ]
    }
   ],
   "source": [
    "# 聯集(a & b所有的元素)\n",
    "print(Name1 | Name2)"
   ]
  },
  {
   "cell_type": "code",
   "execution_count": 9,
   "id": "ea622faf",
   "metadata": {},
   "outputs": [
    {
     "name": "stdout",
     "output_type": "stream",
     "text": [
      "{'林郁宸', '李國彰', '鄭文', '鄭朝元', '林雨璇', '黃俊能'}\n",
      "set()\n"
     ]
    }
   ],
   "source": [
    "# 差集(a有b沒有或是b有a沒有的元素)\n",
    "print(Name1 - Name2)\n",
    "print(Name2 - Name1)"
   ]
  },
  {
   "cell_type": "code",
   "execution_count": 10,
   "id": "883cb4e2",
   "metadata": {},
   "outputs": [
    {
     "name": "stdout",
     "output_type": "stream",
     "text": [
      "{'李國彰', '鄭朝元', '林雨璇', '林郁宸', '鄭文', '黃俊能'}\n"
     ]
    }
   ],
   "source": [
    "# 對稱差集(a & b不重複的元素,即為ab的聯集減掉交集)\n",
    "print(Name1 ^ Name2)"
   ]
  }
 ],
 "metadata": {
  "kernelspec": {
   "display_name": "Python 3 (ipykernel)",
   "language": "python",
   "name": "python3"
  },
  "language_info": {
   "codemirror_mode": {
    "name": "ipython",
    "version": 3
   },
   "file_extension": ".py",
   "mimetype": "text/x-python",
   "name": "python",
   "nbconvert_exporter": "python",
   "pygments_lexer": "ipython3",
   "version": "3.9.13"
  }
 },
 "nbformat": 4,
 "nbformat_minor": 5
}
