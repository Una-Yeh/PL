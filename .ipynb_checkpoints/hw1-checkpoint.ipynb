{
 "cells": [
  {
   "cell_type": "code",
   "execution_count": 2,
   "id": "04889c1c",
   "metadata": {},
   "outputs": [
    {
     "data": {
      "text/html": [
       "<div>\n",
       "<style scoped>\n",
       "    .dataframe tbody tr th:only-of-type {\n",
       "        vertical-align: middle;\n",
       "    }\n",
       "\n",
       "    .dataframe tbody tr th {\n",
       "        vertical-align: top;\n",
       "    }\n",
       "\n",
       "    .dataframe thead th {\n",
       "        text-align: right;\n",
       "    }\n",
       "</style>\n",
       "<table border=\"1\" class=\"dataframe\">\n",
       "  <thead>\n",
       "    <tr style=\"text-align: right;\">\n",
       "      <th></th>\n",
       "      <th>Company \\n(Maker-if known)</th>\n",
       "      <th>Specific Bean Origin\\nor Bar Name</th>\n",
       "      <th>REF</th>\n",
       "      <th>Review\\nDate</th>\n",
       "      <th>Cocoa\\nPercent</th>\n",
       "      <th>Company\\nLocation</th>\n",
       "      <th>Rating</th>\n",
       "      <th>Bean\\nType</th>\n",
       "      <th>Broad Bean\\nOrigin</th>\n",
       "    </tr>\n",
       "  </thead>\n",
       "  <tbody>\n",
       "    <tr>\n",
       "      <th>0</th>\n",
       "      <td>A. Morin</td>\n",
       "      <td>Agua Grande</td>\n",
       "      <td>1876</td>\n",
       "      <td>2016</td>\n",
       "      <td>63%</td>\n",
       "      <td>France</td>\n",
       "      <td>3.75</td>\n",
       "      <td></td>\n",
       "      <td>Sao Tome</td>\n",
       "    </tr>\n",
       "    <tr>\n",
       "      <th>1</th>\n",
       "      <td>A. Morin</td>\n",
       "      <td>Kpime</td>\n",
       "      <td>1676</td>\n",
       "      <td>2015</td>\n",
       "      <td>70%</td>\n",
       "      <td>France</td>\n",
       "      <td>2.75</td>\n",
       "      <td></td>\n",
       "      <td>Togo</td>\n",
       "    </tr>\n",
       "    <tr>\n",
       "      <th>2</th>\n",
       "      <td>A. Morin</td>\n",
       "      <td>Atsane</td>\n",
       "      <td>1676</td>\n",
       "      <td>2015</td>\n",
       "      <td>70%</td>\n",
       "      <td>France</td>\n",
       "      <td>3.00</td>\n",
       "      <td></td>\n",
       "      <td>Togo</td>\n",
       "    </tr>\n",
       "    <tr>\n",
       "      <th>3</th>\n",
       "      <td>A. Morin</td>\n",
       "      <td>Akata</td>\n",
       "      <td>1680</td>\n",
       "      <td>2015</td>\n",
       "      <td>70%</td>\n",
       "      <td>France</td>\n",
       "      <td>3.50</td>\n",
       "      <td></td>\n",
       "      <td>Togo</td>\n",
       "    </tr>\n",
       "    <tr>\n",
       "      <th>4</th>\n",
       "      <td>A. Morin</td>\n",
       "      <td>Quilla</td>\n",
       "      <td>1704</td>\n",
       "      <td>2015</td>\n",
       "      <td>70%</td>\n",
       "      <td>France</td>\n",
       "      <td>3.50</td>\n",
       "      <td></td>\n",
       "      <td>Peru</td>\n",
       "    </tr>\n",
       "  </tbody>\n",
       "</table>\n",
       "</div>"
      ],
      "text/plain": [
       "  Company \\n(Maker-if known) Specific Bean Origin\\nor Bar Name   REF  \\\n",
       "0                   A. Morin                       Agua Grande  1876   \n",
       "1                   A. Morin                             Kpime  1676   \n",
       "2                   A. Morin                            Atsane  1676   \n",
       "3                   A. Morin                             Akata  1680   \n",
       "4                   A. Morin                            Quilla  1704   \n",
       "\n",
       "   Review\\nDate Cocoa\\nPercent Company\\nLocation  Rating Bean\\nType  \\\n",
       "0          2016            63%            France    3.75              \n",
       "1          2015            70%            France    2.75              \n",
       "2          2015            70%            France    3.00              \n",
       "3          2015            70%            France    3.50              \n",
       "4          2015            70%            France    3.50              \n",
       "\n",
       "  Broad Bean\\nOrigin  \n",
       "0           Sao Tome  \n",
       "1               Togo  \n",
       "2               Togo  \n",
       "3               Togo  \n",
       "4               Peru  "
      ]
     },
     "execution_count": 2,
     "metadata": {},
     "output_type": "execute_result"
    }
   ],
   "source": [
    "import pandas as pd\n",
    "\n",
    "data = pd.read_csv('flavors_of_cacao.csv')\n",
    "data.head()"
   ]
  },
  {
   "cell_type": "code",
   "execution_count": 24,
   "id": "b41fa8b7",
   "metadata": {},
   "outputs": [
    {
     "data": {
      "text/html": [
       "<div>\n",
       "<style scoped>\n",
       "    .dataframe tbody tr th:only-of-type {\n",
       "        vertical-align: middle;\n",
       "    }\n",
       "\n",
       "    .dataframe tbody tr th {\n",
       "        vertical-align: top;\n",
       "    }\n",
       "\n",
       "    .dataframe thead th {\n",
       "        text-align: right;\n",
       "    }\n",
       "</style>\n",
       "<table border=\"1\" class=\"dataframe\">\n",
       "  <thead>\n",
       "    <tr style=\"text-align: right;\">\n",
       "      <th></th>\n",
       "      <th>Company</th>\n",
       "      <th>Origin</th>\n",
       "      <th>REF</th>\n",
       "      <th>Review_Date</th>\n",
       "      <th>Cocoa_Percent</th>\n",
       "      <th>Company Location</th>\n",
       "      <th>Rating</th>\n",
       "      <th>Bean_Type</th>\n",
       "      <th>Bean_Org</th>\n",
       "    </tr>\n",
       "  </thead>\n",
       "  <tbody>\n",
       "    <tr>\n",
       "      <th>0</th>\n",
       "      <td>A. Morin</td>\n",
       "      <td>Agua Grande</td>\n",
       "      <td>1876</td>\n",
       "      <td>2016</td>\n",
       "      <td>63.0</td>\n",
       "      <td>France</td>\n",
       "      <td>3.75</td>\n",
       "      <td></td>\n",
       "      <td>Sao Tome</td>\n",
       "    </tr>\n",
       "    <tr>\n",
       "      <th>1</th>\n",
       "      <td>A. Morin</td>\n",
       "      <td>Kpime</td>\n",
       "      <td>1676</td>\n",
       "      <td>2015</td>\n",
       "      <td>70.0</td>\n",
       "      <td>France</td>\n",
       "      <td>2.75</td>\n",
       "      <td></td>\n",
       "      <td>Togo</td>\n",
       "    </tr>\n",
       "    <tr>\n",
       "      <th>2</th>\n",
       "      <td>A. Morin</td>\n",
       "      <td>Atsane</td>\n",
       "      <td>1676</td>\n",
       "      <td>2015</td>\n",
       "      <td>70.0</td>\n",
       "      <td>France</td>\n",
       "      <td>3.00</td>\n",
       "      <td></td>\n",
       "      <td>Togo</td>\n",
       "    </tr>\n",
       "    <tr>\n",
       "      <th>3</th>\n",
       "      <td>A. Morin</td>\n",
       "      <td>Akata</td>\n",
       "      <td>1680</td>\n",
       "      <td>2015</td>\n",
       "      <td>70.0</td>\n",
       "      <td>France</td>\n",
       "      <td>3.50</td>\n",
       "      <td></td>\n",
       "      <td>Togo</td>\n",
       "    </tr>\n",
       "    <tr>\n",
       "      <th>4</th>\n",
       "      <td>A. Morin</td>\n",
       "      <td>Quilla</td>\n",
       "      <td>1704</td>\n",
       "      <td>2015</td>\n",
       "      <td>70.0</td>\n",
       "      <td>France</td>\n",
       "      <td>3.50</td>\n",
       "      <td></td>\n",
       "      <td>Peru</td>\n",
       "    </tr>\n",
       "  </tbody>\n",
       "</table>\n",
       "</div>"
      ],
      "text/plain": [
       "    Company       Origin   REF  Review_Date  Cocoa_Percent Company Location  \\\n",
       "0  A. Morin  Agua Grande  1876         2016           63.0           France   \n",
       "1  A. Morin        Kpime  1676         2015           70.0           France   \n",
       "2  A. Morin       Atsane  1676         2015           70.0           France   \n",
       "3  A. Morin        Akata  1680         2015           70.0           France   \n",
       "4  A. Morin       Quilla  1704         2015           70.0           France   \n",
       "\n",
       "   Rating Bean_Type  Bean_Org  \n",
       "0    3.75            Sao Tome  \n",
       "1    2.75                Togo  \n",
       "2    3.00                Togo  \n",
       "3    3.50                Togo  \n",
       "4    3.50                Peru  "
      ]
     },
     "execution_count": 24,
     "metadata": {},
     "output_type": "execute_result"
    }
   ],
   "source": [
    "# 簡化標題\n",
    "data.columns = ['Company', 'Origin', 'REF', 'Review_Date', 'Cocoa_Percent', 'Company Location', \n",
    "              'Rating', 'Bean_Type', 'Bean_Org']\n",
    "data.head()"
   ]
  },
  {
   "cell_type": "code",
   "execution_count": 8,
   "id": "f666e347",
   "metadata": {},
   "outputs": [
    {
     "data": {
      "text/plain": [
       "Soma                 47\n",
       "Bonnat               27\n",
       "Fresco               26\n",
       "Pralus               25\n",
       "A. Morin             23\n",
       "                     ..\n",
       "Chocablog             1\n",
       "Marigold's Finest     1\n",
       "Chloe Chocolat        1\n",
       "Chequessett           1\n",
       "Ki' Xocolatl          1\n",
       "Name: Company, Length: 416, dtype: int64"
      ]
     },
     "execution_count": 8,
     "metadata": {},
     "output_type": "execute_result"
    }
   ],
   "source": [
    "# Q1:生產巧克力棒最多的製造公司(者)為?\n",
    "\n",
    "counts = data['Company'].value_counts()\n",
    "counts\n",
    "\n",
    "# A1:Soma(47種)"
   ]
  },
  {
   "cell_type": "code",
   "execution_count": 17,
   "id": "8dab0aba",
   "metadata": {},
   "outputs": [
    {
     "name": "stdout",
     "output_type": "stream",
     "text": [
      "平均評分為：3.185933147632312\n"
     ]
    }
   ],
   "source": [
    "# Q2:所有巧克力棒的平均專家評分為多少?\n",
    "\n",
    "# 計算平均值\n",
    "rating = data['Rating'].mean()\n",
    "print('平均評分為：{}'.format(rating))\n",
    "\n",
    "# A2:平均評分為 3.185933147632312"
   ]
  },
  {
   "cell_type": "code",
   "execution_count": 5,
   "id": "fe9a0642",
   "metadata": {},
   "outputs": [
    {
     "data": {
      "text/plain": [
       "5.0"
      ]
     },
     "execution_count": 5,
     "metadata": {},
     "output_type": "execute_result"
    }
   ],
   "source": [
    "# Q3:最高的巧克力棒專家評分為多少?\n",
    "\n",
    "highest_rating = data['Rating'].max()\n",
    "highest_rating\n",
    "\n",
    "# A3:最高的巧克力棒專家評分為 5.0"
   ]
  },
  {
   "cell_type": "code",
   "execution_count": 11,
   "id": "3bf307a8",
   "metadata": {},
   "outputs": [
    {
     "name": "stdout",
     "output_type": "stream",
     "text": [
      "['Italy']\n"
     ]
    }
   ],
   "source": [
    "# Q4:專家評分最高的巧克力棒公司都在那些國家?\n",
    "\n",
    "# 挑出評分為最高分的巧克力棒\n",
    "highest_bars = data[data['Rating'] == highest_rating]\n",
    "\n",
    "# 找出這些巧克力棒所屬的國家\n",
    "countries = highest_bars['Company Location'].unique()\n",
    "print(countries)\n",
    "\n",
    "# A4:專家評分最高的巧克力棒公司都在義大利(Italy)"
   ]
  },
  {
   "cell_type": "code",
   "execution_count": 12,
   "id": "d16283e3",
   "metadata": {},
   "outputs": [
    {
     "name": "stdout",
     "output_type": "stream",
     "text": [
      "2006\n"
     ]
    }
   ],
   "source": [
    "# Q5:在這些巧克力棒的評分數據中最早被發表的評論年代為?\n",
    "\n",
    "# 升冪排序\n",
    "sorted_data = data.sort_values('Review_Date')\n",
    "\n",
    "# 取得升冪排序後最上方的那筆資料\n",
    "earliest_date = sorted_data.iloc[0]['Review_Date']\n",
    "print(earliest_date)\n",
    "\n",
    "# Q5:最早發表的評論年代為 2006"
   ]
  },
  {
   "cell_type": "code",
   "execution_count": 34,
   "id": "f0cd3e81",
   "metadata": {},
   "outputs": [
    {
     "name": "stdout",
     "output_type": "stream",
     "text": [
      "18\n"
     ]
    }
   ],
   "source": [
    "# Q6:那麼最早發表評論的巧克力棒公司有幾家?\n",
    "\n",
    "sorted_data = data.sort_values('Review_Date')\n",
    "earliest_company = sorted_data[sorted_data['Review_Date'] == sorted_data['Review_Date'].min()]['Company']\n",
    "\n",
    "# 計算不重複的公司\n",
    "earliest_companies = earliest_company.nunique()\n",
    "print(earliest_companies)\n",
    "\n",
    "# Q6:最早發表評論的巧克力棒公司有 18家"
   ]
  },
  {
   "cell_type": "code",
   "execution_count": 30,
   "id": "dd623f57",
   "metadata": {},
   "outputs": [
    {
     "name": "stdout",
     "output_type": "stream",
     "text": [
      "764\n"
     ]
    }
   ],
   "source": [
    "# Q7:有多少巧克力棒的可可含量高於整體的平均可可含量?\n",
    "\n",
    "# 將可可含量(Cocoa_Percent)的資料類型轉換為 float,才可以進行後續的數值運算\n",
    "data['Cocoa_Percent'] = (data['Cocoa_Percent']).astype(float)\n",
    "\n",
    "# 計算平均值\n",
    "cocoa = data['Cocoa_Percent'].mean()\n",
    "# 用 Boolean indexing挑出高於平均值的數據，並計算數量\n",
    "high_cocoa = (data['Cocoa_Percent'] > cocoa).sum()\n",
    "print(high_cocoa)\n",
    "\n",
    "# Q7:共有 764種巧克力棒的可可含量高於整體的平均可可含量"
   ]
  },
  {
   "cell_type": "code",
   "execution_count": 31,
   "id": "e2b4151f",
   "metadata": {},
   "outputs": [
    {
     "data": {
      "text/plain": [
       "41"
      ]
     },
     "execution_count": 31,
     "metadata": {},
     "output_type": "execute_result"
    }
   ],
   "source": [
    "# Q8:巧克力棒的製作用到了多少不同的可可豆種類?\n",
    "\n",
    "# 計算不同值的數量\n",
    "bean = data['Bean_Type'].nunique()\n",
    "bean\n",
    "\n",
    "# Q8:共有 41種不同的可可豆種類"
   ]
  },
  {
   "cell_type": "code",
   "execution_count": 49,
   "id": "504b634d",
   "metadata": {},
   "outputs": [
    {
     "name": "stdout",
     "output_type": "stream",
     "text": [
      "71.19047619047619\n",
      "71.6983286908078\n"
     ]
    }
   ],
   "source": [
    "# Q9:義大利(Italy)身為專家評分最高巧克力棒公司的所在地,平均可可含量為多少,且其為大於整體平均可可含量還是小於?\n",
    "\n",
    "# 選出 Italy的所有行\n",
    "italy = data[data['Company Location'] == 'Italy']\n",
    "italy_cocoapercent = italy['Cocoa_Percent'].mean()\n",
    "print(italy_cocoapercent)\n",
    "\n",
    "# 整體平均可可含量\n",
    "cocoa = data['Cocoa_Percent'].mean()\n",
    "print(cocoa)\n",
    "\n",
    "# Q9:義大利(Italy)的平均可可含量為 71.19047619047619% ,且小於整體平均可可含量(71.6983286908078%)"
   ]
  },
  {
   "cell_type": "code",
   "execution_count": 44,
   "id": "d6bf387e",
   "metadata": {},
   "outputs": [
    {
     "name": "stdout",
     "output_type": "stream",
     "text": [
      " \n",
      "Criollo (Porcelana)\n",
      "Blend\n",
      "Trinitario\n",
      "Trinitario (85% Criollo)\n",
      "Forastero\n",
      "Criollo (Ocumare 77)\n",
      "Criollo\n",
      "Criollo (Ocumare 61)\n",
      "Forastero (Arriba)\n",
      "Criollo (Ocumare 67)\n",
      "Forastero (Arriba) ASS\n",
      "Forastero (Nacional)\n",
      "Blend-Forastero,Criollo\n",
      "Criollo, Trinitario\n"
     ]
    }
   ],
   "source": [
    "# Q10:義大利(Italy)身為專家評分最高巧克力棒公司的所在地,都用到了哪些可可豆?\n",
    "\n",
    "# 選出 Italy的所有行\n",
    "italy = data[data['Company Location'] == 'Italy']\n",
    "italy_beantype = italy['Bean_Type'].unique()\n",
    "for beantype in italy_beantype:\n",
    "    print(beantype)\n",
    "    \n",
    "# Q10:義大利(Italy)共使用到了以下顯示的所有可可豆種類"
   ]
  },
  {
   "cell_type": "code",
   "execution_count": null,
   "id": "2d821358",
   "metadata": {},
   "outputs": [],
   "source": []
  }
 ],
 "metadata": {
  "kernelspec": {
   "display_name": "Python 3 (ipykernel)",
   "language": "python",
   "name": "python3"
  },
  "language_info": {
   "codemirror_mode": {
    "name": "ipython",
    "version": 3
   },
   "file_extension": ".py",
   "mimetype": "text/x-python",
   "name": "python",
   "nbconvert_exporter": "python",
   "pygments_lexer": "ipython3",
   "version": "3.9.13"
  }
 },
 "nbformat": 4,
 "nbformat_minor": 5
}
