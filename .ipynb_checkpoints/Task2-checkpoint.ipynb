{
 "cells": [
  {
   "cell_type": "code",
   "execution_count": 3,
   "id": "8457582f",
   "metadata": {},
   "outputs": [
    {
     "name": "stdout",
     "output_type": "stream",
     "text": [
      "阿片粉(g) : 30 元\n",
      "阿片酊(ml) : 2.3 元\n",
      "阿片樟腦酊(ml) : 0.27 元\n",
      "硫酸嗎啡口服液(瓶) : 240 元\n",
      "鹽酸嗎啡(g) : 90 元\n",
      "鹽酸嗎啡錠10毫克(粒) : 2.8 元\n",
      "硫酸嗎啡錠15毫克(粒) : 3.3 元\n",
      "嗎啡長效膜衣錠30毫克(粒) : 12.5 元\n",
      "釋通緩釋錠8毫克(粒) : 135 元\n",
      "疼始康定10毫克持續藥效錠(粒) : 40 元\n"
     ]
    }
   ],
   "source": [
    "import json\n",
    "Open = open('medicine.json',encoding=\"utf-8\")\n",
    "data = json.load(Open)\n",
    "for i in data['藥品售價']:\n",
    "    print(i,\":\",data['藥品售價'][i],\"元\")"
   ]
  },
  {
   "cell_type": "code",
   "execution_count": 5,
   "id": "289e58f4",
   "metadata": {},
   "outputs": [
    {
     "name": "stdout",
     "output_type": "stream",
     "text": [
      "請輸入藥品名稱：阿片粉(g)\n",
      "阿片粉(g) : 30 元\n"
     ]
    }
   ],
   "source": [
    "# 查詢藥品價格\n",
    "x = input(\"請輸入藥品名稱：\")\n",
    "for i in data['藥品售價']:\n",
    "    if x in i:\n",
    "        print(i,\":\",data['藥品售價'][i],\"元\")"
   ]
  },
  {
   "cell_type": "code",
   "execution_count": null,
   "id": "6cd7b092",
   "metadata": {},
   "outputs": [],
   "source": []
  }
 ],
 "metadata": {
  "kernelspec": {
   "display_name": "Python 3 (ipykernel)",
   "language": "python",
   "name": "python3"
  },
  "language_info": {
   "codemirror_mode": {
    "name": "ipython",
    "version": 3
   },
   "file_extension": ".py",
   "mimetype": "text/x-python",
   "name": "python",
   "nbconvert_exporter": "python",
   "pygments_lexer": "ipython3",
   "version": "3.9.13"
  }
 },
 "nbformat": 4,
 "nbformat_minor": 5
}
