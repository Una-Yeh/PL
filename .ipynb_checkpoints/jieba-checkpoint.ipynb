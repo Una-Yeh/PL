{
 "cells": [
  {
   "cell_type": "code",
   "execution_count": 9,
   "id": "d23f2865",
   "metadata": {},
   "outputs": [
    {
     "name": "stdout",
     "output_type": "stream",
     "text": [
      "Counter({'一個': 2, '測試': 2, '句子': 2, '這是': 1, '，': 1, '另外': 1, '還有': 1, '。': 1})\n"
     ]
    }
   ],
   "source": [
    "# 如果需要中文的詞頻統計，可以使用jieba這個中文分詞庫\n",
    "# pip install jieba，為安裝jieba庫的命令\n",
    "\n",
    "import jieba\n",
    "from collections import Counter\n",
    "\n",
    "def word_frequency(text):\n",
    "    # 使用jieba分詞\n",
    "    words = jieba.lcut(text)\n",
    "    # 使用Counter計算每個單詞出現的次數\n",
    "    word_count = Counter(words)\n",
    "    # 返回結果\n",
    "    return word_count\n",
    "\n",
    "# 測試\n",
    "text = \"這是一個測試句子，另外還有一個測試句子。\"\n",
    "word_count = word_frequency(text)\n",
    "print(word_count)"
   ]
  },
  {
   "cell_type": "code",
   "execution_count": 10,
   "id": "c7e7bff1",
   "metadata": {},
   "outputs": [
    {
     "name": "stdout",
     "output_type": "stream",
     "text": [
      "Default Mode: 這是/ 一個/ 測試/ 句子/ ，/ 另外/ 還有/ 一個/ 測試/ 句子/ 。\n"
     ]
    }
   ],
   "source": [
    "# 中文斷詞\n",
    "\n",
    "text = \"這是一個測試句子，另外還有一個測試句子。\"\n",
    "seg_list = jieba.cut(text, cut_all=False)\n",
    "\n",
    "print(\"Default Mode: \" + \"/ \".join(seg_list))"
   ]
  },
  {
   "cell_type": "code",
   "execution_count": 18,
   "id": "5941d4eb",
   "metadata": {},
   "outputs": [
    {
     "name": "stdout",
     "output_type": "stream",
     "text": [
      "這是/ 一個/ 測試/ 句子/ 還有/ 一個/ 測試/ 句子\n"
     ]
    }
   ],
   "source": [
    "# 停用詞\n",
    "\n",
    "from jieba import analyse\n",
    "\n",
    "text = \"這是一個測試句子，另外還有一個測試句子。\"\n",
    "seg_list = jieba.cut(text, cut_all=False)\n",
    "\n",
    "# 設置停用詞表\n",
    "stop_words_file = \"stopwords.txt\"\n",
    "stop_words = set()\n",
    "with open(stop_words_file, \"r\", encoding=\"utf-8\") as f:\n",
    "    for line in f:\n",
    "        stop_words.add(line.strip())\n",
    "\n",
    "# 去除停用詞\n",
    "words = [word for word in seg_list if word not in stop_words]\n",
    "\n",
    "print(\"/ \".join(words))"
   ]
  },
  {
   "cell_type": "code",
   "execution_count": null,
   "id": "a58ee34e",
   "metadata": {},
   "outputs": [],
   "source": []
  }
 ],
 "metadata": {
  "kernelspec": {
   "display_name": "Python 3 (ipykernel)",
   "language": "python",
   "name": "python3"
  },
  "language_info": {
   "codemirror_mode": {
    "name": "ipython",
    "version": 3
   },
   "file_extension": ".py",
   "mimetype": "text/x-python",
   "name": "python",
   "nbconvert_exporter": "python",
   "pygments_lexer": "ipython3",
   "version": "3.9.13"
  }
 },
 "nbformat": 4,
 "nbformat_minor": 5
}
